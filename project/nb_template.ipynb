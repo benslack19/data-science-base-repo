{
 "cells": [
  {
   "cell_type": "markdown",
   "id": "ee7a2ed2-35b5-424f-8e02-ace1b5c77e8a",
   "metadata": {},
   "source": [
    "# Title of project\n",
    "\n",
    "The purpose of this notebook is to provide a template for data science use cases, primarily for exploration and self-education."
   ]
  },
  {
   "cell_type": "code",
   "execution_count": 1,
   "id": "75f5008c-3437-488e-ab9c-133ba6a8f3b4",
   "metadata": {},
   "outputs": [],
   "source": [
    "from pathlib import Path\n",
    "\n",
    "import matplotlib.pyplot as plt\n",
    "import numpy as np\n",
    "import pandas as pd\n",
    "import seaborn as sns\n",
    "from ydata_profiling import ProfileReport"
   ]
  },
  {
   "cell_type": "code",
   "execution_count": null,
   "id": "48e74cd5-e597-432a-acd4-1c032f296fdb",
   "metadata": {},
   "outputs": [],
   "source": [
    "%matplotlib inline\n",
    "pd.set_option(\"display.max_columns\", None)\n",
    "rng = np.random.default_rng(12345)\n",
    "sns.set_context(\"talk\")\n",
    "sns.set_palette(\"colorblind\")"
   ]
  },
  {
   "cell_type": "markdown",
   "id": "830102f0-3846-4fc1-a4e4-d0e99fef9aec",
   "metadata": {},
   "source": [
    "# Explore and visualize data"
   ]
  },
  {
   "cell_type": "code",
   "execution_count": 3,
   "id": "d647978e-e980-4333-887e-bccea883eddd",
   "metadata": {},
   "outputs": [
    {
     "name": "stdout",
     "output_type": "stream",
     "text": [
      "(100, 7)\n"
     ]
    },
    {
     "data": {
      "text/html": [
       "<div>\n",
       "<style scoped>\n",
       "    .dataframe tbody tr th:only-of-type {\n",
       "        vertical-align: middle;\n",
       "    }\n",
       "\n",
       "    .dataframe tbody tr th {\n",
       "        vertical-align: top;\n",
       "    }\n",
       "\n",
       "    .dataframe thead th {\n",
       "        text-align: right;\n",
       "    }\n",
       "</style>\n",
       "<table border=\"1\" class=\"dataframe\">\n",
       "  <thead>\n",
       "    <tr style=\"text-align: right;\">\n",
       "      <th></th>\n",
       "      <th>a</th>\n",
       "      <th>b</th>\n",
       "      <th>c</th>\n",
       "      <th>d</th>\n",
       "      <th>e</th>\n",
       "      <th>f_ordinal</th>\n",
       "      <th>g_binary</th>\n",
       "    </tr>\n",
       "  </thead>\n",
       "  <tbody>\n",
       "    <tr>\n",
       "      <th>0</th>\n",
       "      <td>0.227336</td>\n",
       "      <td>0.316758</td>\n",
       "      <td>0.797365</td>\n",
       "      <td>0.676255</td>\n",
       "      <td>0.391110</td>\n",
       "      <td>2.0</td>\n",
       "      <td>True</td>\n",
       "    </tr>\n",
       "    <tr>\n",
       "      <th>1</th>\n",
       "      <td>0.332814</td>\n",
       "      <td>0.598309</td>\n",
       "      <td>0.186734</td>\n",
       "      <td>0.672756</td>\n",
       "      <td>0.941803</td>\n",
       "      <td>2.0</td>\n",
       "      <td>False</td>\n",
       "    </tr>\n",
       "    <tr>\n",
       "      <th>2</th>\n",
       "      <td>0.248246</td>\n",
       "      <td>0.948881</td>\n",
       "      <td>0.667237</td>\n",
       "      <td>NaN</td>\n",
       "      <td>0.441840</td>\n",
       "      <td>3.0</td>\n",
       "      <td>True</td>\n",
       "    </tr>\n",
       "    <tr>\n",
       "      <th>3</th>\n",
       "      <td>0.886480</td>\n",
       "      <td>0.697453</td>\n",
       "      <td>0.326473</td>\n",
       "      <td>0.733928</td>\n",
       "      <td>0.220135</td>\n",
       "      <td>3.0</td>\n",
       "      <td>True</td>\n",
       "    </tr>\n",
       "    <tr>\n",
       "      <th>4</th>\n",
       "      <td>0.081595</td>\n",
       "      <td>0.159896</td>\n",
       "      <td>0.340100</td>\n",
       "      <td>0.465193</td>\n",
       "      <td>0.266421</td>\n",
       "      <td>2.0</td>\n",
       "      <td>False</td>\n",
       "    </tr>\n",
       "  </tbody>\n",
       "</table>\n",
       "</div>"
      ],
      "text/plain": [
       "          a         b         c         d         e  f_ordinal g_binary\n",
       "0  0.227336  0.316758  0.797365  0.676255  0.391110        2.0     True\n",
       "1  0.332814  0.598309  0.186734  0.672756  0.941803        2.0    False\n",
       "2  0.248246  0.948881  0.667237       NaN  0.441840        3.0     True\n",
       "3  0.886480  0.697453  0.326473  0.733928  0.220135        3.0     True\n",
       "4  0.081595  0.159896  0.340100  0.465193  0.266421        2.0    False"
      ]
     },
     "execution_count": 3,
     "metadata": {},
     "output_type": "execute_result"
    }
   ],
   "source": [
    "# Generate a df with continuous, ordinal, and binary variables\n",
    "nrows, ncols = 100, 5\n",
    "df_example = pd.DataFrame(\n",
    "    rng.random((nrows, ncols)), columns=[\"a\", \"b\", \"c\", \"d\", \"e\"]\n",
    ").assign(\n",
    "    f_ordinal=rng.choice([0, 1, 2, 3], nrows), g_binary=rng.choice([True, False], nrows)\n",
    ")\n",
    "\n",
    "# randomly set missing values to 10% of them to make it more challenging/realistic\n",
    "bool_mask_mv = rng.choice([True, False], df_example.shape, p=[0.1, 0.9])\n",
    "df_example = df_example.mask(bool_mask_mv)\n",
    "\n",
    "# Export and import data -------\n",
    "# save data\n",
    "# df_example.to_csv(Path(\"data\", \"example_data.csv\"), index=False)\n",
    "\n",
    "# edit to read a saved file\n",
    "# df_example = pd.read_csv(Path('data', 'example_data.csv'))\n",
    "\n",
    "print(df_example.shape)\n",
    "df_example.head()"
   ]
  },
  {
   "cell_type": "code",
   "execution_count": 4,
   "id": "584d0178-b538-4d61-a28f-02fe6854b8dd",
   "metadata": {},
   "outputs": [
    {
     "name": "stdout",
     "output_type": "stream",
     "text": [
      "<class 'pandas.core.frame.DataFrame'>\n",
      "RangeIndex: 100 entries, 0 to 99\n",
      "Data columns (total 7 columns):\n",
      " #   Column     Non-Null Count  Dtype  \n",
      "---  ------     --------------  -----  \n",
      " 0   a          94 non-null     float64\n",
      " 1   b          92 non-null     float64\n",
      " 2   c          88 non-null     float64\n",
      " 3   d          89 non-null     float64\n",
      " 4   e          89 non-null     float64\n",
      " 5   f_ordinal  90 non-null     float64\n",
      " 6   g_binary   90 non-null     object \n",
      "dtypes: float64(6), object(1)\n",
      "memory usage: 5.6+ KB\n"
     ]
    }
   ],
   "source": [
    "df_example.info()"
   ]
  },
  {
   "cell_type": "code",
   "execution_count": 5,
   "id": "23e9695c-6ee0-4541-865b-2503e4c174c2",
   "metadata": {},
   "outputs": [],
   "source": [
    "# use pandas profiling for fast exploration\n",
    "# profile = ProfileReport(df_example, title=\"Profiling Report\")\n",
    "# profile"
   ]
  },
  {
   "cell_type": "markdown",
   "id": "41b58f94-e074-4d1a-936b-8d0601dd8ee8",
   "metadata": {},
   "source": [
    "# Visualize data"
   ]
  },
  {
   "cell_type": "code",
   "execution_count": null,
   "id": "9283b945-e6c4-48cf-b347-64a68957efec",
   "metadata": {},
   "outputs": [
    {
     "data": {
      "text/plain": [
       "<seaborn.axisgrid.FacetGrid at 0x1472a35d0>"
      ]
     },
     "execution_count": 6,
     "metadata": {},
     "output_type": "execute_result"
    },
    {
     "data": {
      "image/png": "[encoded data removed]",
      "text/plain": [
       "<Figure size 1000x500 with 2 Axes>"
      ]
     },
     "metadata": {},
     "output_type": "display_data"
    }
   ],
   "source": [
    "g = sns.relplot(data=df_example, x=\"a\", y=\"b\", col=\"g_binary\", kind=\"scatter\")\n",
    "g"
   ]
  },
  {
   "cell_type": "code",
   "execution_count": 67,
   "id": "b43daa25-790d-4257-bd3c-13d8e529a2ba",
   "metadata": {},
   "outputs": [
    {
     "data": {
      "text/plain": [
       "array(['SD', 'LA', 'LA', 'SF', 'LA', 'SF', 'LA', 'LA', 'SD', 'SF'],\n",
       "      dtype='<U2')"
      ]
     },
     "execution_count": 67,
     "metadata": {},
     "output_type": "execute_result"
    }
   ],
   "source": [
    "rng = np.random.default_rng()\n",
    "rng.choice([\"LA\", \"SD\", \"SF\"], p=[1 / 3, 1 / 3, 1 / 3], size=10)"
   ]
  },
  {
   "cell_type": "code",
   "execution_count": 7,
   "id": "8c4d4aa3-42cb-4607-a187-0c19b1c208fb",
   "metadata": {},
   "outputs": [
    {
     "data": {
      "text/plain": [
       "<matplotlib.collections.PathCollection at 0x1475ee110>"
      ]
     },
     "execution_count": 7,
     "metadata": {},
     "output_type": "execute_result"
    },
    {
     "data": {
      "image/png": "[encoded data removed]",
      "text/plain": [
       "<Figure size 640x480 with 1 Axes>"
      ]
     },
     "metadata": {},
     "output_type": "display_data"
    }
   ],
   "source": [
    "plt.scatter(df_example[\"a\"], df_example[\"b\"])"
   ]
  },
  {
   "cell_type": "code",
   "execution_count": 10,
   "id": "e278d339-d981-43da-8b42-9346a69f2767",
   "metadata": {},
   "outputs": [
    {
     "name": "stdout",
     "output_type": "stream",
     "text": [
      "Last updated: Mon Nov 11 2024\n",
      "\n",
      "Python implementation: CPython\n",
      "Python version       : 3.11.10\n",
      "IPython version      : 8.29.0\n",
      "\n",
      "pandas         : 2.2.3\n",
      "numpy          : 2.0.2\n",
      "matplotlib     : 3.9.2\n",
      "ydata_profiling: 0.0.dev0\n",
      "seaborn        : 0.13.2\n",
      "\n",
      "Watermark: 2.5.0\n",
      "\n"
     ]
    }
   ],
   "source": [
    "%load_ext watermark\n",
    "%watermark -n -u -v -iv -w"
   ]
  }
 ],
 "metadata": {
  "kernelspec": {
   "display_name": "Python 3 (ipykernel)",
   "language": "python",
   "name": "python3"
  },
  "language_info": {
   "codemirror_mode": {
    "name": "ipython",
    "version": 3
   },
   "file_extension": ".py",
   "mimetype": "text/x-python",
   "name": "python",
   "nbconvert_exporter": "python",
   "pygments_lexer": "ipython3",
   "version": "3.11.10"
  }
 },
 "nbformat": 4,
 "nbformat_minor": 5
}
